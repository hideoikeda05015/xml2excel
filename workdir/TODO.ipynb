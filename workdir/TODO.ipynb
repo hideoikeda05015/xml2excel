{
 "cells": [
  {
   "cell_type": "markdown",
   "id": "92cdb75e-a3da-4f1e-8ef4-2cc4fce14322",
   "metadata": {
    "tags": []
   },
   "source": [
    "#### TODO"
   ]
  },
  {
   "cell_type": "markdown",
   "id": "d7dadab4-106e-4760-b156-f9912bdf0ddb",
   "metadata": {
    "tags": []
   },
   "source": [
    "##### S"
   ]
  },
  {
   "cell_type": "markdown",
   "id": "34b8da63-95af-49cf-bd03-758487a0cfc2",
   "metadata": {},
   "source": [
    "■ タグ以外\n",
    "1. [] 設計書の共通パーツの参照が出来るように\n",
    "1. [] バージョンフォルダの差分履歴表示機能の実装\n",
    "    - 前回分と比較して差分があれば更新フラグを立てる\n",
    "    - アイデアメモ、一つ前の構造もフォーマットかけて比較すればもう少し見やすいかもしれない\n",
    "    - 例）is_update、is_deletedなどのフラグを設ける見込み\n",
    "\n",
    "■ imgタグ\n",
    "1. file_list -> fileの中でart属性を立ててタイトルつけらるようにしたい\n",
    "\n",
    "■ sectionタグ\n",
    "1. 「id」とかつけて、比較の際の指標にしたい\n",
    "\n",
    "■ section type=page_br\n",
    "1. [] 改ページ機能\n",
    "\n",
    "■ section type=fileタグ\n",
    "1. [] 「.md」マークダウンファイル対応\n",
    "1. [] マーメイドファイルへの対応\n",
    "    1. https://github.com/mermaid-js/mermaid-cli\n",
    "    1. https://qiita.com/irico/items/0260e93d313b9ba5dc74\n",
    "\n",
    "■ section type=wireframe\n",
    "1. [x] row, col中のタグ\n",
    "1. [] tableタグ\n",
    "    1. wireframeの横幅は「相対的なサイズ指定」だが、tableが「絶対的なサイズ指定」な点どこかで注釈入れたい\n",
    "1. [] imgタグを入れれるようにしてみる\n",
    "\n",
    "■ section type=flowchart\n",
    "1. この部分のために「Shape」が欲しい、現状下記の方針はどうかという状態\n",
    "    1. [] 自力で解析して入れる\n",
    "        1. 構造の構築はいけそうな肌感もあるが、構造の入れ方の方針考慮前\n",
    "        1. 一旦、こっちで考慮してみる\n",
    "            1. openpyxlで作成してから、作成したファイルを後から加工する方針にて調整してみる\n",
    "    1. [] openpyxl のshapeが使えるかもしれないくらいのレベル感\n",
    "        1. 思ったほどは修正箇所がないかもくらい？\n",
    "    1. [] シーケンス、データベース図（これはそこまでだが）"
   ]
  },
  {
   "cell_type": "markdown",
   "id": "01e17c5f-c23a-4735-845c-86bf4331af72",
   "metadata": {
    "jp-MarkdownHeadingCollapsed": true,
    "tags": []
   },
   "source": [
    "##### C"
   ]
  },
  {
   "cell_type": "markdown",
   "id": "10c85310-d6e7-478b-b855-af7223b6722e",
   "metadata": {},
   "source": [
    "1. [x] 画像生成処理の実装\n",
    "1. [x] PlatUMLパッケージ持ってくる\n",
    "1. [x] 後々PlatUMLのファイル参照とかできる構造にはするが、履歴の残し方をどこかで考慮しておく\n",
    "    1. データフォーマットの際にデータを構造に突っ込んで、差分を見れるようにするのはどうか\n",
    "    1. dioも突っ込めるなら突っ込んでみたい mxGrap\n",
    "        1. 「IPyDrawio」というワードが引っかかる https://github.com/deathbeds/ipydrawio\n",
    "        1. CLIでもいけそうだが、https://github.com/jgraph/drawio/issues/483\n",
    "1. [x] テーブルのセル幅を中身の文字数に応じて自動伸縮させる\n",
    "1. [x] とりあえず PHPで実装した画面設計の内容をpythonに移し替え"
   ]
  },
  {
   "cell_type": "markdown",
   "id": "a4cec8b3-e3b3-4343-92de-ea96f288e957",
   "metadata": {
    "jp-MarkdownHeadingCollapsed": true,
    "tags": []
   },
   "source": [
    "#### MEMO"
   ]
  },
  {
   "cell_type": "raw",
   "id": "3fd53227-4078-4230-9a9c-615dfd9f283c",
   "metadata": {},
   "source": [
    "#PIXEL_BASE_W = 0.143\n",
    "#PIXEL_BASE_H = 0.75\n",
    "\n",
    "# https://utataneblog760.com/019width/#toc8\n",
    "# 【幅】\n",
    "# ws.column_dimensions[‘B’].width = 20\n",
    "# ➡20は文字数のことで、半角20文字（全角で10文字）が納まる幅になっています。\n",
    "# \n",
    "# 【高さ】\n",
    "# ws.row_dimensions[2].height = 30\n",
    "# ➡30はポイント（pt）です。\n",
    "\n",
    "#maker = AnchorMarker(col=3 -1, colOff=0, row=9 -1, rowOff=0)\n",
    "#size_ext = XDRPositiveSize2D(pixels_to_EMU(org_width), pixels_to_EMU(org_height))\n",
    "#img.anchor = OneCellAnchor(_from=maker, ext=size_ext)\n",
    "#_cell = sheet.column_dimensions[\"A\"] # アクセスするだけで13になる\n",
    "#_width_cell = self._width_size - self._body_lr_padding * 2 - self._page_lr_padding * 2\n",
    "  \n",
    "#RUN echo '#!/bin/bash\\n\\\n",
    "#/usr/bin/java -jar /opt/plantuml/plantuml-mit-1.2024.4.jar $@' > /usr/bin/plantuml\n",
    "#RUN chmod a+x /usr/bin/plantuml\n",
    "\n",
    "#RUN wget https://noto-website-2.storage.googleapis.com/pkgs/NotoSansCJKjp-hinted.zip -O /tmp/fonts_noto.zip && \\\n",
    "#    mkdir -p /usr/share/fonts &&\\\n",
    "#    unzip /tmp/fonts_noto.zip -d /usr/share/fonts\n",
    "\n",
    "  inflating: /usr/share/fonts/LICENSE_OFL.txt  \n",
    "  inflating: /usr/share/fonts/NotoSansCJKjp-Black.otf  \n",
    "  inflating: /usr/share/fonts/NotoSansCJKjp-Bold.otf  \n",
    "  inflating: /usr/share/fonts/NotoSansCJKjp-DemiLight.otf  \n",
    "  inflating: /usr/share/fonts/NotoSansCJKjp-Light.otf  \n",
    "  inflating: /usr/share/fonts/NotoSansCJKjp-Medium.otf  \n",
    "  inflating: /usr/share/fonts/NotoSansCJKjp-Regular.otf  \n",
    "  inflating: /usr/share/fonts/NotoSansCJKjp-Thin.otf  \n",
    "  inflating: /usr/share/fonts/NotoSansMonoCJKjp-Bold.otf  \n",
    "  inflating: /usr/share/fonts/NotoSansMonoCJKjp-Regular.otf  \n",
    "  inflating: /usr/share/fonts/README \n",
    "  \n",
    "https://github.com/jbn/IPlantUML/blob/master/iplantuml/__init__.py\n",
    "\n",
    "https://home.tech-office-mori.com/blog/excel-embed-arrow-txtbox-1\n",
    "\n",
    "Python で excel ファイルを扱おうとした場合の定番ツールに openpyxl があります。 ブックの作成やワークシートの追加、編集などはサポートされています。 表計算の場合にはおおよそ問題ありませんが、申請書のようなものについては問題があります。 多くの excel の申請書では性別のように選択肢で入力する部分がありますが、 この入力に円などの図形を充てることがよくあります。 一方で、openpyxl ではこういった図形の追加、編集がサポートされていないようです。 そのため、既存の xlsx ファイルを openpyxl で読み込んだ場合、こういった図形やテキストボックスは消えてしまいます。\n",
    "\n",
    "図形の追加等ができるライブラリとして、xlwings や XLSXwriter というものもあります。 ただ、xlwings は Windows でしか動かないので、サーバサイドで動かす場合にはかなりの制約が生まれてきてしまいます。 また、XLSXwriter は既存のシートの読み込みができなかったりします。\n",
    "\n",
    "-------------------------------------------------------------\n",
    "■ Shapeの調査\n",
    "- 昔はあった？\n",
    "    - https://openpyxl.readthedocs.io/en/2.4/api/openpyxl.drawing.shape.html\n",
    "    - https://readthedocs.org/projects/openpyxl/downloads/pdf/2.4/\n",
    "    - https://openpyxl.readthedocs.io/en/latest/_modules/openpyxl/descriptors/serialisable.html\n",
    "    - https://openpyxl.readthedocs.io/en/2.4/api/openpyxl.drawing.html\n",
    "- https://foss.heptapod.net/openpyxl/openpyxl/-/issues/531\n",
    "    - 2.4だけ一瞬あったらしい\n",
    "    - 2.4に切り替えるのも一つ手だが、うーん......\n",
    "\n",
    "-------------------------------------------------------------\n",
    "■ コメント機能はあるよう\n",
    "https://qiita.com/rihu-do/items/25c0623cd81228054724\n",
    "\n",
    "-------------------------------------------------------------\n",
    "■ Shapeが欲しくてこの辺見てる\n",
    "https://zenn.dev/hodakam/articles/4df0554f229abb\n",
    "https://zenn.dev/hodakam/articles/489ff91d176af8\n",
    "https://zenn.dev/hodakam/articles/dc13ee7694ba08\n",
    "\n",
    "■ なんかまとまっていそう感\n",
    "https://stackoverflow.com/questions/78330155/how-do-i-extract-the-color-of-an-excel-shape-using-the-xml\n",
    "https://scrapbox.io/shimizukawa/openpyxl\n",
    "\n",
    "                    <tr>\n",
    "                        <td>&lt;header&gt;</td>\n",
    "                        <td>シート中のヘッダー部分に記載。タイトルなどを設定する際に利用するタグ</td>\n",
    "                        <td link=\"./001_サンプル.xlsx#001_概要!A3\">リンク</td>\n",
    "                    </tr>\n",
    "                    \n",
    "\n",
    "# 検証結果\n",
    "# ■ 比較対象\n",
    "#     ① 何も無いファイル\n",
    "#     ② テキストボックスファイルが1つ\n",
    "# ■ 新規追加\n",
    "#     ✅ ① drawing*.xml だけだと表現されないがエラーにもならない\n",
    "#     ✅ ② worksheets/_rels/sheet*.xml.rels だけだと表現されないがエラーにもならない\n",
    "# ■ 修正更新\n",
    "#     ✅ ① worksheets/sheet*.xml 最後に「 <drawing r:id=\"rId1\" />」が入る\n",
    "#     ✅ ② [Content_Types].xml 途中に「<Override PartName=\"/xl/drawings/drawing1.xml\" ContentType=\"application/vnd.openxmlformats-officedocument.drawing+xml\" />」が入る\n",
    "# ■ 備忘録\n",
    "#     ① 一度ファイルが壊れる .DS_STOREファイルが構造に入ってしまっていた\n",
    "#     ② https://stackoverflow.com/questions/1181888/what-does-xmlns-in-xml-mean\n",
    "#     ③ 新規追加の時だけいいのか検証部分あり\n",
    "#     ④ drawings _rels の方は、画像を作るとできるっぽい\n",
    "# ■ 履歴\n",
    "#     6/9 おぉ......動いた\n",
    "\n",
    "# テキストボックスを一つ\n",
    "#xlsx_path = \"/workdir/projects/サンプル_プロジェクト/sample_excels/text_box.xlsx\"\n",
    "#book.init(self, xlsx_path)"
   ]
  },
  {
   "cell_type": "code",
   "execution_count": null,
   "id": "a7b9f8f6-e274-4fe5-a5a1-f76c38903391",
   "metadata": {},
   "outputs": [],
   "source": []
  }
 ],
 "metadata": {
  "kernelspec": {
   "display_name": "Python 3 (ipykernel)",
   "language": "python",
   "name": "python3"
  },
  "language_info": {
   "codemirror_mode": {
    "name": "ipython",
    "version": 3
   },
   "file_extension": ".py",
   "mimetype": "text/x-python",
   "name": "python",
   "nbconvert_exporter": "python",
   "pygments_lexer": "ipython3",
   "version": "3.9.13"
  }
 },
 "nbformat": 4,
 "nbformat_minor": 5
}
