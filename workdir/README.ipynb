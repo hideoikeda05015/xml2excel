{
 "cells": [
  {
   "cell_type": "markdown",
   "id": "23702b6e-e007-48f2-95a6-df2efa8cfafa",
   "metadata": {
    "jp-MarkdownHeadingCollapsed": true,
    "tags": []
   },
   "source": [
    "#### README"
   ]
  },
  {
   "cell_type": "markdown",
   "id": "de86482f-01c1-4e17-9f52-92ef9753088d",
   "metadata": {
    "tags": []
   },
   "source": [
    "##### ■ 概要\n",
    "1. XMLフォーマットで設計書形式に整形されたEXCELファイルを作成するためのツールが目的\n",
    "\n",
    "##### ■ 実行手順\n",
    "1. 下部の「SHELL」セルにて、下記の構成を持ったフォルダを指定して下さい\n",
    "    1. 「バージョン フォルダ (vX.X.X)」など「丸括弧」の記載に従ったフォルダ・ファイルが生成対象になります\n",
    "    1. クローン直後は、記載例が載ったサンプルのプロジェクトが指定されています\n",
    "    1. クローン直後は、共通パーツ参照のためのフォルダをXLSX生成の際の例外に指定しています\n",
    "1. ページ上部の「▶️」を押下するか、下記の「SHELL」セル中にて「Shift + Enter」を押下ください\n",
    "1. エラーなどがなければ、「project_path」フォルダ中に「outputs」フォルダが作成されEXCELファイルが格納されます\n",
    "\n",
    "##### ■ 下記の構成で階層構造を持たせてください\n",
    "1. プロジェクトフォルダ\n",
    "    1. docs：設計書フォルダ\n",
    "        1. バージョン フォルダ (vX.X.X)\n",
    "            1. EXCELファイル フォルダ (001_XXXXX)\n",
    "                1. EXCEL構成シート ファイル (001_XXXXX.xml)\n",
    "                1. 画像(.dio.ping推奨)、Platumlのファイルなどはフォルダを切って相対パスで参照させています\n",
    "    1. outputs：EXCEL出力先\n",
    "    1. libs：ライブラリ関連"
   ]
  },
  {
   "cell_type": "markdown",
   "id": "6df65a82-d3e6-461d-bacb-40f79ad24175",
   "metadata": {
    "tags": []
   },
   "source": [
    "#### SHELL"
   ]
  },
  {
   "cell_type": "code",
   "execution_count": 3,
   "id": "fb5bf309-336b-4900-87a5-ac6c2b4ec12c",
   "metadata": {
    "tags": []
   },
   "outputs": [
    {
     "data": {
      "application/vnd.jupyter.widget-view+json": {
       "model_id": "",
       "version_major": 2,
       "version_minor": 0
      },
      "text/plain": [
       "Progress (files):   0%|          | 0/1 [00:00<?, ?it/s]"
      ]
     },
     "metadata": {},
     "output_type": "display_data"
    },
    {
     "data": {
      "application/vnd.jupyter.widget-view+json": {
       "model_id": "",
       "version_major": 2,
       "version_minor": 0
      },
      "text/plain": [
       "Progress (sheets):   0%|          | 0/4 [00:00<?, ?it/s]"
      ]
     },
     "metadata": {},
     "output_type": "display_data"
    },
    {
     "name": "stdout",
     "output_type": "stream",
     "text": [
      "done\n"
     ]
    }
   ],
   "source": [
    "# ライブラリ関連\n",
    "import importlib\n",
    "from libs.xml2excel import xml2excel\n",
    "importlib.reload(xml2excel)\n",
    "\n",
    "# 実行部分\n",
    "project_path = \"/workdir/projects/サンプル_プロジェクト/\"\n",
    "xlsx_ignore_folders = [\"000_共通資料\"]\n",
    "x2e = xml2excel.xml2excel(project_path, xlsx_ignore_folders)\n",
    "x2e.createOutputs()\n",
    "\n",
    "print(\"done\")"
   ]
  },
  {
   "cell_type": "code",
   "execution_count": null,
   "id": "7539c3f6-040a-4e74-9329-5a958f253e94",
   "metadata": {},
   "outputs": [],
   "source": []
  }
 ],
 "metadata": {
  "kernelspec": {
   "display_name": "Python 3 (ipykernel)",
   "language": "python",
   "name": "python3"
  },
  "language_info": {
   "codemirror_mode": {
    "name": "ipython",
    "version": 3
   },
   "file_extension": ".py",
   "mimetype": "text/x-python",
   "name": "python",
   "nbconvert_exporter": "python",
   "pygments_lexer": "ipython3",
   "version": "3.9.13"
  }
 },
 "nbformat": 4,
 "nbformat_minor": 5
}
