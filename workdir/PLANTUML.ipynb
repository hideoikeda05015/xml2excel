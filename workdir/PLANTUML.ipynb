{
 "cells": [
  {
   "cell_type": "markdown",
   "id": "607fd7cc-49e8-44b7-9e91-62817b352007",
   "metadata": {},
   "source": [
    "#### ■ PlatUMLの有無確認"
   ]
  },
  {
   "cell_type": "code",
   "execution_count": 1,
   "id": "ad0a7b6e-badf-4b05-9ff5-c81ef0c61a71",
   "metadata": {
    "tags": []
   },
   "outputs": [
    {
     "name": "stdout",
     "output_type": "stream",
     "text": [
      "PlantUML version 1.2024.4 (Sat Apr 06 14:33:20 UTC 2024)\n",
      "(MIT source distribution)\n",
      "Java Runtime: OpenJDK Runtime Environment\n",
      "JVM: OpenJDK 64-Bit Server VM\n",
      "Default Encoding: UTF-8\n",
      "Language: en\n",
      "Country: null\n",
      " \n",
      "PLANTUML_LIMIT_SIZE: 4096\n",
      "\n",
      "Dot version: dot - graphviz version 2.43.0 (0)\n",
      "Installation seems OK. File generation OK\n"
     ]
    },
    {
     "data": {
      "text/plain": [
       "0"
      ]
     },
     "execution_count": 1,
     "metadata": {},
     "output_type": "execute_result"
    }
   ],
   "source": [
    "import os\n",
    "os.system(\"/usr/bin/java -jar /opt/plantuml/plantuml.jar -version\")"
   ]
  },
  {
   "cell_type": "markdown",
   "id": "5f75cdda-1bb7-4541-96a6-0c8d499edd41",
   "metadata": {},
   "source": [
    "#### ■ インライン確認サンプル"
   ]
  },
  {
   "cell_type": "code",
   "execution_count": 2,
   "id": "5d738cb9-21c0-417d-9dc9-924974917311",
   "metadata": {
    "tags": []
   },
   "outputs": [],
   "source": [
    "import iplantuml"
   ]
  },
  {
   "cell_type": "code",
   "execution_count": 3,
   "id": "744bb508-bbb9-4e68-951e-875930696e94",
   "metadata": {
    "tags": []
   },
   "outputs": [
    {
     "data": {
      "image/svg+xml": [
       "<svg xmlns=\"http://www.w3.org/2000/svg\" xmlns:xlink=\"http://www.w3.org/1999/xlink\" contentStyleType=\"text/css\" height=\"245px\" preserveAspectRatio=\"none\" style=\"width:291px;height:245px;background:#FFFFFF;\" version=\"1.1\" viewBox=\"0 0 291 245\" width=\"291px\" zoomAndPan=\"magnify\"><defs/><g><text fill=\"#000000\" font-family=\"sans-serif\" font-size=\"14\" font-weight=\"bold\" lengthAdjust=\"spacing\" textLength=\"84\" x=\"102.5\" y=\"27.9951\">シーケンス図</text><line style=\"stroke:#181818;stroke-width:0.5;stroke-dasharray:5.0,5.0;\" x1=\"28\" x2=\"28\" y1=\"73.5938\" y2=\"210.125\"/><line style=\"stroke:#181818;stroke-width:0.5;stroke-dasharray:5.0,5.0;\" x1=\"264\" x2=\"264\" y1=\"73.5938\" y2=\"210.125\"/><rect fill=\"#E2E2F0\" height=\"30.2969\" rx=\"2.5\" ry=\"2.5\" style=\"stroke:#181818;stroke-width:0.5;\" width=\"46\" x=\"5\" y=\"42.2969\"/><text fill=\"#000000\" font-family=\"sans-serif\" font-size=\"14\" lengthAdjust=\"spacing\" textLength=\"32\" x=\"12\" y=\"62.292\">Alice</text><rect fill=\"#E2E2F0\" height=\"30.2969\" rx=\"2.5\" ry=\"2.5\" style=\"stroke:#181818;stroke-width:0.5;\" width=\"46\" x=\"5\" y=\"209.125\"/><text fill=\"#000000\" font-family=\"sans-serif\" font-size=\"14\" lengthAdjust=\"spacing\" textLength=\"32\" x=\"12\" y=\"229.1201\">Alice</text><rect fill=\"#E2E2F0\" height=\"30.2969\" rx=\"2.5\" ry=\"2.5\" style=\"stroke:#181818;stroke-width:0.5;\" width=\"42\" x=\"243\" y=\"42.2969\"/><text fill=\"#000000\" font-family=\"sans-serif\" font-size=\"14\" lengthAdjust=\"spacing\" textLength=\"28\" x=\"250\" y=\"62.292\">Bob</text><rect fill=\"#E2E2F0\" height=\"30.2969\" rx=\"2.5\" ry=\"2.5\" style=\"stroke:#181818;stroke-width:0.5;\" width=\"42\" x=\"243\" y=\"209.125\"/><text fill=\"#000000\" font-family=\"sans-serif\" font-size=\"14\" lengthAdjust=\"spacing\" textLength=\"28\" x=\"250\" y=\"229.1201\">Bob</text><polygon fill=\"#181818\" points=\"252,100.7266,262,104.7266,252,108.7266,256,104.7266\" style=\"stroke:#181818;stroke-width:1.0;\"/><line style=\"stroke:#181818;stroke-width:1.0;\" x1=\"28\" x2=\"258\" y1=\"104.7266\" y2=\"104.7266\"/><text fill=\"#000000\" font-family=\"sans-serif\" font-size=\"13\" lengthAdjust=\"spacing\" textLength=\"149\" x=\"35\" y=\"99.6606\">Authentication Request</text><polygon fill=\"#181818\" points=\"39,129.8594,29,133.8594,39,137.8594,35,133.8594\" style=\"stroke:#181818;stroke-width:1.0;\"/><line style=\"stroke:#181818;stroke-width:1.0;stroke-dasharray:2.0,2.0;\" x1=\"33\" x2=\"263\" y1=\"133.8594\" y2=\"133.8594\"/><text fill=\"#000000\" font-family=\"sans-serif\" font-size=\"13\" lengthAdjust=\"spacing\" textLength=\"159\" x=\"45\" y=\"128.7935\">Authentication Response</text><polygon fill=\"#181818\" points=\"252,158.9922,262,162.9922,252,166.9922,256,162.9922\" style=\"stroke:#181818;stroke-width:1.0;\"/><line style=\"stroke:#181818;stroke-width:1.0;\" x1=\"28\" x2=\"258\" y1=\"162.9922\" y2=\"162.9922\"/><text fill=\"#000000\" font-family=\"sans-serif\" font-size=\"13\" lengthAdjust=\"spacing\" textLength=\"203\" x=\"35\" y=\"157.9263\">Another authentication Request</text><polygon fill=\"#181818\" points=\"39,188.125,29,192.125,39,196.125,35,192.125\" style=\"stroke:#181818;stroke-width:1.0;\"/><line style=\"stroke:#181818;stroke-width:1.0;stroke-dasharray:2.0,2.0;\" x1=\"33\" x2=\"263\" y1=\"192.125\" y2=\"192.125\"/><text fill=\"#000000\" font-family=\"sans-serif\" font-size=\"13\" lengthAdjust=\"spacing\" textLength=\"212\" x=\"45\" y=\"187.0591\">another authentication Response</text><!--SRC=[2yaioKbLUDoq_N7pdiTD6nytRtxSjFFfxCrSZZcPoQaAkdOAJlb9LWgEfIKPgNabcSc99PdvUGf1gOMbgSKbN40v1LsW6h1YBAgA2_BpYbEvq0tBomUgAr98n6ueHB6DhYv4TI8krH330G00]--></g></svg>"
      ],
      "text/plain": [
       "<IPython.core.display.SVG object>"
      ]
     },
     "execution_count": 3,
     "metadata": {},
     "output_type": "execute_result"
    }
   ],
   "source": [
    "%%plantuml -p /opt/plantuml/plantuml.jar\n",
    "@startuml\n",
    "Title シーケンス図\n",
    "Alice -> Bob: Authentication Request\n",
    "Bob --> Alice: Authentication Response\n",
    "\n",
    "Alice -> Bob: Another authentication Request\n",
    "Alice <-- Bob: another authentication Response\n",
    "@enduml % test"
   ]
  },
  {
   "cell_type": "markdown",
   "id": "4f25cea7-4615-473b-bf34-377cf8f38fb5",
   "metadata": {},
   "source": [
    "#### ■ ファイル確認サンプル"
   ]
  },
  {
   "cell_type": "code",
   "execution_count": 4,
   "id": "7f464f51-b9ca-4562-a9b5-c022309134fe",
   "metadata": {
    "tags": []
   },
   "outputs": [
    {
     "data": {
      "image/svg+xml": [
       "<svg xmlns=\"http://www.w3.org/2000/svg\" xmlns:xlink=\"http://www.w3.org/1999/xlink\" contentStyleType=\"text/css\" height=\"597px\" preserveAspectRatio=\"none\" style=\"width:468px;height:597px;background:#FFFFFF;\" version=\"1.1\" viewBox=\"0 0 468 597\" width=\"468px\" zoomAndPan=\"magnify\"><defs/><g><text fill=\"#000000\" font-family=\"sans-serif\" font-size=\"14\" font-weight=\"bold\" lengthAdjust=\"spacing\" textLength=\"44\" x=\"202\" y=\"22.9951\">Title1</text><!--cluster ??A--><g id=\"cluster_画面A\"><path d=\"M24.5,118.2969 L264.5,118.2969 A12.5,12.5 0 0 1 277,130.7969 L277,139.5938 L12,139.5938 L12,130.7969 A12.5,12.5 0 0 1 24.5,118.2969 \" fill=\"#F1F1F1\" style=\"stroke:#F1F1F1;stroke-width:1.0;\"/><rect fill=\"none\" height=\"224\" rx=\"12.5\" ry=\"12.5\" style=\"stroke:#181818;stroke-width:0.5;\" width=\"265\" x=\"12\" y=\"118.2969\"/><line style=\"stroke:#181818;stroke-width:0.5;\" x1=\"12\" x2=\"277\" y1=\"139.5938\" y2=\"139.5938\"/><text fill=\"#000000\" font-family=\"sans-serif\" font-size=\"14\" lengthAdjust=\"spacing\" textLength=\"37\" x=\"126\" y=\"135.292\">画面A</text></g><!--cluster ??B--><g id=\"cluster_画面B\"><path d=\"M136.5,407.2969 L442.5,407.2969 A12.5,12.5 0 0 1 455,419.7969 L455,428.5938 L124,428.5938 L124,419.7969 A12.5,12.5 0 0 1 136.5,407.2969 \" fill=\"#F1F1F1\" style=\"stroke:#F1F1F1;stroke-width:1.0;\"/><rect fill=\"none\" height=\"107\" rx=\"12.5\" ry=\"12.5\" style=\"stroke:#181818;stroke-width:0.5;\" width=\"331\" x=\"124\" y=\"407.2969\"/><line style=\"stroke:#181818;stroke-width:0.5;\" x1=\"124\" x2=\"455\" y1=\"428.5938\" y2=\"428.5938\"/><text fill=\"#000000\" font-family=\"sans-serif\" font-size=\"14\" lengthAdjust=\"spacing\" textLength=\"38\" x=\"270.5\" y=\"424.292\">画面B</text></g><ellipse cx=\"86\" cy=\"181.2969\" fill=\"#222222\" rx=\"10\" ry=\"10\" style=\"stroke:#222222;stroke-width:1.0;\"/><rect fill=\"#F1F1F1\" height=\"40\" rx=\"12.5\" ry=\"12.5\" style=\"stroke:#181818;stroke-width:0.5;\" width=\"66\" x=\"131\" y=\"161.2969\"/><text fill=\"#000000\" font-family=\"sans-serif\" font-size=\"14\" lengthAdjust=\"spacing\" textLength=\"56\" x=\"136\" y=\"186.1436\">設定画面</text><rect fill=\"#F1F1F1\" height=\"40\" rx=\"12.5\" ry=\"12.5\" style=\"stroke:#181818;stroke-width:0.5;\" width=\"66\" x=\"99\" y=\"278.2969\"/><text fill=\"#000000\" font-family=\"sans-serif\" font-size=\"14\" lengthAdjust=\"spacing\" textLength=\"56\" x=\"104\" y=\"303.1436\">確認画面</text><ellipse cx=\"177\" cy=\"470.2969\" fill=\"#222222\" rx=\"10\" ry=\"10\" style=\"stroke:#222222;stroke-width:1.0;\"/><rect fill=\"#F1F1F1\" height=\"40\" rx=\"12.5\" ry=\"12.5\" style=\"stroke:#181818;stroke-width:0.5;\" width=\"80\" x=\"222\" y=\"450.2969\"/><text fill=\"#000000\" font-family=\"sans-serif\" font-size=\"14\" lengthAdjust=\"spacing\" textLength=\"70\" x=\"227\" y=\"475.1436\">実行中画面</text><rect fill=\"#F1F1F1\" height=\"40\" rx=\"12.5\" ry=\"12.5\" style=\"stroke:#181818;stroke-width:0.5;\" width=\"94\" x=\"337\" y=\"450.2969\"/><text fill=\"#000000\" font-family=\"sans-serif\" font-size=\"14\" lengthAdjust=\"spacing\" textLength=\"84\" x=\"342\" y=\"475.1436\">実行結果画面</text><ellipse cx=\"20\" cy=\"53.2969\" fill=\"#222222\" rx=\"10\" ry=\"10\" style=\"stroke:#222222;stroke-width:1.0;\"/><ellipse cx=\"384\" cy=\"580.2969\" fill=\"none\" rx=\"11\" ry=\"11\" style=\"stroke:#222222;stroke-width:1.0;\"/><ellipse cx=\"384\" cy=\"580.2969\" fill=\"#222222\" rx=\"6\" ry=\"6\" style=\"stroke:#222222;stroke-width:1.0;\"/><!--link *start*??A to ????--><g id=\"link_*start*画面A_設定画面\"><path d=\"M96.05,181.2969 C107.64,181.2969 113.23,181.2969 124.82,181.2969 \" fill=\"none\" id=\"*start*画面A-to-設定画面\" style=\"stroke:#181818;stroke-width:1.0;\"/><polygon fill=\"#181818\" points=\"130.82,181.2969,121.82,177.2969,125.82,181.2969,121.82,185.2969,130.82,181.2969\" style=\"stroke:#181818;stroke-width:1.0;\"/></g><!--link ???? to ????--><g id=\"link_設定画面_確認画面\"><path d=\"M130.93,196.4269 C108.68,206.6869 82.29,220.5969 76,231.2969 C65.87,248.5269 76.5215,262.1462 93.7715,274.6462 \" fill=\"none\" id=\"設定画面-to-確認画面\" style=\"stroke:#181818;stroke-width:1.0;\"/><polygon fill=\"#181818\" points=\"98.63,278.1669,93.6894,269.6469,94.5813,275.233,88.9952,276.1249,98.63,278.1669\" style=\"stroke:#181818;stroke-width:1.0;\"/><text fill=\"#000000\" font-family=\"sans-serif\" font-size=\"13\" lengthAdjust=\"spacing\" textLength=\"65\" x=\"77\" y=\"244.3638\">確認ボタン</text></g><!--link ???? to ????--><g id=\"link_確認画面_設定画面\"><path d=\"M138.04,278.2769 C140.86,269.2269 144.2,258.2269 147,248.2969 C151.43,232.5769 154.5658,220.448 157.8658,207.238 \" fill=\"none\" id=\"確認画面-to-設定画面\" style=\"stroke:#181818;stroke-width:1.0;\"/><polygon fill=\"#181818\" points=\"159.32,201.4169,153.258,209.1791,158.1082,206.2678,161.0195,211.118,159.32,201.4169\" style=\"stroke:#181818;stroke-width:1.0;\"/><text fill=\"#000000\" font-family=\"sans-serif\" font-size=\"13\" lengthAdjust=\"spacing\" textLength=\"65\" x=\"153\" y=\"244.3638\">戻るボタン</text></g><!--link *start*??B to ?????--><g id=\"link_*start*画面B_実行中画面\"><path d=\"M187.29,470.2969 C198.77,470.2969 204.25,470.2969 215.73,470.2969 \" fill=\"none\" id=\"*start*画面B-to-実行中画面\" style=\"stroke:#181818;stroke-width:1.0;\"/><polygon fill=\"#181818\" points=\"221.73,470.2969,212.73,466.2969,216.73,470.2969,212.73,474.2969,221.73,470.2969\" style=\"stroke:#181818;stroke-width:1.0;\"/></g><!--link ????? to ??????--><g id=\"link_実行中画面_実行結果画面\"><path d=\"M302.03,470.2969 C313.66,470.2969 319.3,470.2969 330.93,470.2969 \" fill=\"none\" id=\"実行中画面-to-実行結果画面\" style=\"stroke:#181818;stroke-width:1.0;\"/><polygon fill=\"#181818\" points=\"336.93,470.2969,327.93,466.2969,331.93,470.2969,327.93,474.2969,336.93,470.2969\" style=\"stroke:#181818;stroke-width:1.0;\"/></g><!--link *start* to ??A--><g id=\"link_*start*_画面A\"><path d=\"M20,63.3569 C20,70.4669 20,81.1594 20,93.2406 C20,99.2812 20,105.6691 20,112.1298 C20,113.745 20,115.3648 20,116.9848 C20,117.3898 20,111.7949 20,112.1998 \" fill=\"none\" id=\"*start*-to-画面A\" style=\"stroke:#181818;stroke-width:1.0;\"/><polygon fill=\"#181818\" points=\"20,118.1998,24,109.1998,20,113.1998,16,109.1998,20,118.1998\" style=\"stroke:#181818;stroke-width:1.0;\"/></g><!--link ???? to ??B--><g id=\"link_確認画面_画面B\"><path d=\"M132,318.4669 C132,329.4094 132,344.1006 132,360.0328 C132,367.9989 132,376.2752 132,384.5483 C132,388.6849 132,392.8206 132,396.9163 C132,398.9642 132,401.0021 132,403.025 C132,404.0365 132,405.0443 132,406.0477 C132,406.2986 132,400.5492 132,400.7995 \" fill=\"none\" id=\"確認画面-to-画面B\" style=\"stroke:#181818;stroke-width:1.0;\"/><polygon fill=\"#181818\" points=\"132,406.7995,136,397.7995,132,401.7995,128,397.7995,132,406.7995\" style=\"stroke:#181818;stroke-width:1.0;\"/><text fill=\"#000000\" font-family=\"sans-serif\" font-size=\"13\" lengthAdjust=\"spacing\" textLength=\"65\" x=\"133\" y=\"379.3638\">実行ボタン</text></g><!--link ?????? to *end*--><g id=\"link_実行結果画面_*end*\"><path d=\"M384,490.3569 C384,513.3669 384,545.2169 384,563.1969 \" fill=\"none\" id=\"実行結果画面-to-*end*\" style=\"stroke:#181818;stroke-width:1.0;\"/><polygon fill=\"#181818\" points=\"384,569.1969,388,560.1969,384,564.1969,380,560.1969,384,569.1969\" style=\"stroke:#181818;stroke-width:1.0;\"/></g><!--SRC=[AyaioKbL206HXbnS6PafgGgfkGKbbGefgSN9HPa59PdvULp59OabgGhFf-n-ENUHeq8rbm8GH6l5AkZQARnOiVRfkbaGAR0uie22Bb35yqMxNgpgXGXOGNcFc-SyRjh_k7apM0ko2h0MP3Ei59vrx7xSr8tGKelY7YTKzpnTD__5mfudEzOYEGbD3A7i-TO9p-RDWQgivU82cm5oCiIdN1WEWrff1TMFS1EcUM3rG0C1]--></g></svg>"
      ],
      "text/plain": [
       "<IPython.core.display.SVG object>"
      ]
     },
     "execution_count": 4,
     "metadata": {},
     "output_type": "execute_result"
    }
   ],
   "source": [
    "from IPython.display import SVG\n",
    "\n",
    "os.system(\"\\\n",
    "    /usr/bin/java -splash:no -jar \\\n",
    "    /opt/plantuml/plantuml.jar -tsvg \\\n",
    "    /workdir/projects/サンプル_プロジェクト/docs/v0.0.1/001_サンプル/plantumls/001_sample.pu\")\n",
    "\n",
    "SVG(filename=\"/workdir/projects/サンプル_プロジェクト/docs/v0.0.1/001_サンプル/plantumls/001_sample.svg\")"
   ]
  },
  {
   "cell_type": "code",
   "execution_count": null,
   "id": "96a26c00-64c2-413b-ae7a-1fc5529ba131",
   "metadata": {},
   "outputs": [],
   "source": []
  }
 ],
 "metadata": {
  "kernelspec": {
   "display_name": "Python 3 (ipykernel)",
   "language": "python",
   "name": "python3"
  },
  "language_info": {
   "codemirror_mode": {
    "name": "ipython",
    "version": 3
   },
   "file_extension": ".py",
   "mimetype": "text/x-python",
   "name": "python",
   "nbconvert_exporter": "python",
   "pygments_lexer": "ipython3",
   "version": "3.9.13"
  }
 },
 "nbformat": 4,
 "nbformat_minor": 5
}
